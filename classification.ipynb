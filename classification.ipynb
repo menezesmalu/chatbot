{
 "cells": [
  {
   "cell_type": "code",
   "execution_count": 1,
   "id": "bdcb71f0",
   "metadata": {},
   "outputs": [
    {
     "name": "stderr",
     "output_type": "stream",
     "text": [
      "2021-07-24 15:10:22.537772: W tensorflow/stream_executor/platform/default/dso_loader.cc:64] Could not load dynamic library 'libcudart.so.11.0'; dlerror: libcudart.so.11.0: cannot open shared object file: No such file or directory; LD_LIBRARY_PATH: /home/mag/.gvm/pkgsets/go1.16.4/global/overlay/lib:\n",
      "2021-07-24 15:10:22.537805: I tensorflow/stream_executor/cuda/cudart_stub.cc:29] Ignore above cudart dlerror if you do not have a GPU set up on your machine.\n"
     ]
    },
    {
     "name": "stdout",
     "output_type": "stream",
     "text": [
      "2.5.0\n"
     ]
    }
   ],
   "source": [
    "import numpy as np\n",
    "import pandas as pd\n",
    "import tensorflow as tf\n",
    "\n",
    "print(tf.__version__)"
   ]
  },
  {
   "cell_type": "code",
   "execution_count": 2,
   "id": "6f9ee3e0",
   "metadata": {},
   "outputs": [],
   "source": [
    "train_ds = pd.read_csv('./data/classification/train_dataset.csv')\n",
    "test_ds  = pd.read_csv('./data/classification/test_dataset.csv')\n",
    "valid_ds   = pd.read_csv('./data/classification/dev_dataset.csv')"
   ]
  },
  {
   "cell_type": "code",
   "execution_count": 3,
   "id": "f0d11d4c",
   "metadata": {},
   "outputs": [
    {
     "data": {
      "text/html": [
       "<div>\n",
       "<style scoped>\n",
       "    .dataframe tbody tr th:only-of-type {\n",
       "        vertical-align: middle;\n",
       "    }\n",
       "\n",
       "    .dataframe tbody tr th {\n",
       "        vertical-align: top;\n",
       "    }\n",
       "\n",
       "    .dataframe thead th {\n",
       "        text-align: right;\n",
       "    }\n",
       "</style>\n",
       "<table border=\"1\" class=\"dataframe\">\n",
       "  <thead>\n",
       "    <tr style=\"text-align: right;\">\n",
       "      <th></th>\n",
       "      <th>Sentence</th>\n",
       "      <th>Intent</th>\n",
       "    </tr>\n",
       "  </thead>\n",
       "  <tbody>\n",
       "    <tr>\n",
       "      <th>0</th>\n",
       "      <td>Can you show me some movie listings?</td>\n",
       "      <td>INFORM_INTENT</td>\n",
       "    </tr>\n",
       "    <tr>\n",
       "      <th>1</th>\n",
       "      <td>I am in San Jose. Also I want to see a 3D movie.</td>\n",
       "      <td>INFORM</td>\n",
       "    </tr>\n",
       "    <tr>\n",
       "      <th>2</th>\n",
       "      <td>Yes, please find me some other movies. I want ...</td>\n",
       "      <td>INFORM</td>\n",
       "    </tr>\n",
       "    <tr>\n",
       "      <th>3</th>\n",
       "      <td>What times do you have available for Curse of ...</td>\n",
       "      <td>INFORM_INTENT</td>\n",
       "    </tr>\n",
       "    <tr>\n",
       "      <th>4</th>\n",
       "      <td>March 5th.</td>\n",
       "      <td>INFORM</td>\n",
       "    </tr>\n",
       "  </tbody>\n",
       "</table>\n",
       "</div>"
      ],
      "text/plain": [
       "                                            Sentence         Intent\n",
       "0               Can you show me some movie listings?  INFORM_INTENT\n",
       "1   I am in San Jose. Also I want to see a 3D movie.         INFORM\n",
       "2  Yes, please find me some other movies. I want ...         INFORM\n",
       "3  What times do you have available for Curse of ...  INFORM_INTENT\n",
       "4                                         March 5th.         INFORM"
      ]
     },
     "execution_count": 3,
     "metadata": {},
     "output_type": "execute_result"
    }
   ],
   "source": [
    "train_ds.head()"
   ]
  },
  {
   "cell_type": "code",
   "execution_count": 4,
   "id": "b34092b9",
   "metadata": {},
   "outputs": [],
   "source": [
    "train_ds['Intent'] = train_ds['Intent'].astype('category')\n",
    "test_ds['Intent'] = test_ds['Intent'].astype('category')\n",
    "valid_ds['Intent'] = valid_ds['Intent'].astype('category')"
   ]
  },
  {
   "cell_type": "code",
   "execution_count": 5,
   "id": "f60576c3",
   "metadata": {},
   "outputs": [
    {
     "data": {
      "text/html": [
       "<div>\n",
       "<style scoped>\n",
       "    .dataframe tbody tr th:only-of-type {\n",
       "        vertical-align: middle;\n",
       "    }\n",
       "\n",
       "    .dataframe tbody tr th {\n",
       "        vertical-align: top;\n",
       "    }\n",
       "\n",
       "    .dataframe thead th {\n",
       "        text-align: right;\n",
       "    }\n",
       "</style>\n",
       "<table border=\"1\" class=\"dataframe\">\n",
       "  <thead>\n",
       "    <tr style=\"text-align: right;\">\n",
       "      <th></th>\n",
       "      <th>Sentence</th>\n",
       "      <th>Intent</th>\n",
       "    </tr>\n",
       "  </thead>\n",
       "  <tbody>\n",
       "    <tr>\n",
       "      <th>0</th>\n",
       "      <td>Can you show me some movie listings?</td>\n",
       "      <td>1</td>\n",
       "    </tr>\n",
       "    <tr>\n",
       "      <th>1</th>\n",
       "      <td>I am in San Jose. Also I want to see a 3D movie.</td>\n",
       "      <td>0</td>\n",
       "    </tr>\n",
       "    <tr>\n",
       "      <th>2</th>\n",
       "      <td>Yes, please find me some other movies. I want ...</td>\n",
       "      <td>0</td>\n",
       "    </tr>\n",
       "    <tr>\n",
       "      <th>3</th>\n",
       "      <td>What times do you have available for Curse of ...</td>\n",
       "      <td>1</td>\n",
       "    </tr>\n",
       "    <tr>\n",
       "      <th>4</th>\n",
       "      <td>March 5th.</td>\n",
       "      <td>0</td>\n",
       "    </tr>\n",
       "  </tbody>\n",
       "</table>\n",
       "</div>"
      ],
      "text/plain": [
       "                                            Sentence  Intent\n",
       "0               Can you show me some movie listings?       1\n",
       "1   I am in San Jose. Also I want to see a 3D movie.       0\n",
       "2  Yes, please find me some other movies. I want ...       0\n",
       "3  What times do you have available for Curse of ...       1\n",
       "4                                         March 5th.       0"
      ]
     },
     "execution_count": 5,
     "metadata": {},
     "output_type": "execute_result"
    }
   ],
   "source": [
    "train_ds['Intent'] = train_ds['Intent'].cat.codes\n",
    "test_ds['Intent'] = test_ds['Intent'].cat.codes\n",
    "valid_ds['Intent'] = valid_ds['Intent'].cat.codes\n",
    "train_ds.head()"
   ]
  },
  {
   "cell_type": "code",
   "execution_count": 6,
   "id": "8a89b35b",
   "metadata": {},
   "outputs": [],
   "source": [
    "BUFFER_SIZE = 10000\n",
    "BATCH_SIZE = 64"
   ]
  },
  {
   "cell_type": "code",
   "execution_count": 7,
   "id": "6bf6173d",
   "metadata": {
    "scrolled": true
   },
   "outputs": [
    {
     "name": "stderr",
     "output_type": "stream",
     "text": [
      "2021-07-24 15:10:24.850016: I tensorflow/stream_executor/platform/default/dso_loader.cc:53] Successfully opened dynamic library libcuda.so.1\n",
      "2021-07-24 15:10:24.898841: I tensorflow/stream_executor/cuda/cuda_gpu_executor.cc:937] successful NUMA node read from SysFS had negative value (-1), but there must be at least one NUMA node, so returning NUMA node zero\n",
      "2021-07-24 15:10:24.899367: I tensorflow/core/common_runtime/gpu/gpu_device.cc:1733] Found device 0 with properties: \n",
      "pciBusID: 0000:01:00.0 name: NVIDIA GeForce MX110 computeCapability: 5.0\n",
      "coreClock: 1.006GHz coreCount: 2 deviceMemorySize: 1.96GiB deviceMemoryBandwidth: 37.33GiB/s\n",
      "2021-07-24 15:10:24.899498: W tensorflow/stream_executor/platform/default/dso_loader.cc:64] Could not load dynamic library 'libcudart.so.11.0'; dlerror: libcudart.so.11.0: cannot open shared object file: No such file or directory; LD_LIBRARY_PATH: /home/mag/.gvm/pkgsets/go1.16.4/global/overlay/lib:\n",
      "2021-07-24 15:10:24.899618: W tensorflow/stream_executor/platform/default/dso_loader.cc:64] Could not load dynamic library 'libcublas.so.11'; dlerror: libcublas.so.11: cannot open shared object file: No such file or directory; LD_LIBRARY_PATH: /home/mag/.gvm/pkgsets/go1.16.4/global/overlay/lib:\n",
      "2021-07-24 15:10:24.899718: W tensorflow/stream_executor/platform/default/dso_loader.cc:64] Could not load dynamic library 'libcublasLt.so.11'; dlerror: libcublasLt.so.11: cannot open shared object file: No such file or directory; LD_LIBRARY_PATH: /home/mag/.gvm/pkgsets/go1.16.4/global/overlay/lib:\n",
      "2021-07-24 15:10:24.899817: W tensorflow/stream_executor/platform/default/dso_loader.cc:64] Could not load dynamic library 'libcufft.so.10'; dlerror: libcufft.so.10: cannot open shared object file: No such file or directory; LD_LIBRARY_PATH: /home/mag/.gvm/pkgsets/go1.16.4/global/overlay/lib:\n",
      "2021-07-24 15:10:24.899917: W tensorflow/stream_executor/platform/default/dso_loader.cc:64] Could not load dynamic library 'libcurand.so.10'; dlerror: libcurand.so.10: cannot open shared object file: No such file or directory; LD_LIBRARY_PATH: /home/mag/.gvm/pkgsets/go1.16.4/global/overlay/lib:\n",
      "2021-07-24 15:10:24.900023: W tensorflow/stream_executor/platform/default/dso_loader.cc:64] Could not load dynamic library 'libcusolver.so.11'; dlerror: libcusolver.so.11: cannot open shared object file: No such file or directory; LD_LIBRARY_PATH: /home/mag/.gvm/pkgsets/go1.16.4/global/overlay/lib:\n",
      "2021-07-24 15:10:24.900119: W tensorflow/stream_executor/platform/default/dso_loader.cc:64] Could not load dynamic library 'libcusparse.so.11'; dlerror: libcusparse.so.11: cannot open shared object file: No such file or directory; LD_LIBRARY_PATH: /home/mag/.gvm/pkgsets/go1.16.4/global/overlay/lib:\n",
      "2021-07-24 15:10:24.900214: W tensorflow/stream_executor/platform/default/dso_loader.cc:64] Could not load dynamic library 'libcudnn.so.8'; dlerror: libcudnn.so.8: cannot open shared object file: No such file or directory; LD_LIBRARY_PATH: /home/mag/.gvm/pkgsets/go1.16.4/global/overlay/lib:\n",
      "2021-07-24 15:10:24.900227: W tensorflow/core/common_runtime/gpu/gpu_device.cc:1766] Cannot dlopen some GPU libraries. Please make sure the missing libraries mentioned above are installed properly if you would like to use GPU. Follow the guide at https://www.tensorflow.org/install/gpu for how to download and setup the required libraries for your platform.\n",
      "Skipping registering GPU devices...\n",
      "2021-07-24 15:10:24.902138: I tensorflow/core/platform/cpu_feature_guard.cc:142] This TensorFlow binary is optimized with oneAPI Deep Neural Network Library (oneDNN) to use the following CPU instructions in performance-critical operations:  AVX2 FMA\n",
      "To enable them in other operations, rebuild TensorFlow with the appropriate compiler flags.\n",
      "2021-07-24 15:10:24.902799: I tensorflow/core/common_runtime/gpu/gpu_device.cc:1258] Device interconnect StreamExecutor with strength 1 edge matrix:\n",
      "2021-07-24 15:10:24.902823: I tensorflow/core/common_runtime/gpu/gpu_device.cc:1264]      \n"
     ]
    }
   ],
   "source": [
    "train_text = tf.data.Dataset.from_tensor_slices(train_ds['Sentence'])\n",
    "train_labels = tf.data.Dataset.from_tensor_slices(train_ds['Intent'])\n",
    "\n",
    "test_text = tf.data.Dataset.from_tensor_slices(test_ds['Sentence'])\n",
    "test_labels = tf.data.Dataset.from_tensor_slices(test_ds['Intent'])\n",
    "\n",
    "valid_text = tf.data.Dataset.from_tensor_slices(valid_ds['Sentence'])\n",
    "valid_labels = tf.data.Dataset.from_tensor_slices(valid_ds['Intent'])\n",
    "\n",
    "\n",
    "train_dataset = tf.data.Dataset.zip((train_text, train_labels))\n",
    "test_dataset = tf.data.Dataset.zip((test_text, test_labels))\n",
    "valid_dataset = tf.data.Dataset.zip((valid_text, valid_labels))"
   ]
  },
  {
   "cell_type": "code",
   "execution_count": 8,
   "id": "dd13370f",
   "metadata": {},
   "outputs": [],
   "source": [
    "train_dataset = train_dataset.shuffle(BUFFER_SIZE).batch(BATCH_SIZE).prefetch(tf.data.AUTOTUNE)\n",
    "test_dataset = test_dataset.batch(BATCH_SIZE).prefetch(tf.data.AUTOTUNE)\n",
    "valid_dataset = valid_dataset.batch(BATCH_SIZE).prefetch(tf.data.AUTOTUNE)"
   ]
  },
  {
   "cell_type": "code",
   "execution_count": 9,
   "id": "f117cadb",
   "metadata": {},
   "outputs": [
    {
     "name": "stdout",
     "output_type": "stream",
     "text": [
      "texts:  [b\"Sounds good. I don't need anything else.\"\n",
      " b'Alright, how much is that ticket?'\n",
      " b\"No thanks, I think I'll buy them later\"]\n",
      "\n",
      "labels:  [6 4 3]\n"
     ]
    }
   ],
   "source": [
    "for example, label in train_dataset.take(1):\n",
    "  print('texts: ', example.numpy()[:3])\n",
    "  print()\n",
    "  print('labels: ', label.numpy()[:3])"
   ]
  },
  {
   "cell_type": "code",
   "execution_count": 10,
   "id": "896fd35e",
   "metadata": {},
   "outputs": [
    {
     "name": "stderr",
     "output_type": "stream",
     "text": [
      "2021-07-24 15:10:25.074092: I tensorflow/compiler/mlir/mlir_graph_optimization_pass.cc:176] None of the MLIR Optimization Passes are enabled (registered 2)\n",
      "2021-07-24 15:10:25.094712: I tensorflow/core/platform/profile_utils/cpu_utils.cc:114] CPU Frequency: 1999965000 Hz\n"
     ]
    }
   ],
   "source": [
    "VOCAB_SIZE = 1000\n",
    "encoder = tf.keras.layers.experimental.preprocessing.TextVectorization(\n",
    "    max_tokens=VOCAB_SIZE)\n",
    "encoder.adapt(train_dataset.map(lambda text, label: text))"
   ]
  },
  {
   "cell_type": "code",
   "execution_count": 11,
   "id": "5eb2ca98",
   "metadata": {},
   "outputs": [
    {
     "data": {
      "text/plain": [
       "array(['', '[UNK]', 'i', 'to', 'the', 'is', 'a', 'movie', 'watch', 'in',\n",
       "       'what', 'for', 'it', 'you', 'movies', 'want', 'can', 'of', 'no',\n",
       "       'like', 'find', 'on', 'at', 'me', 'time', 'see', 'that', 'sounds',\n",
       "       'good', 'would', 'now', 'all', 'are', 'show', 'please', 'not',\n",
       "       'thanks', 'and', 'this', 'thats', 'great', 'march', 'perfect',\n",
       "       'im', 'be', 'search', 'any', 'help', 'will', 'showing', 'id',\n",
       "       'san', 'other', 'need', 'there', 'how', 'right', 'times',\n",
       "       'playing', 'theater', 'dont', 'am', 'imax', 'go', 'much', 'ticket',\n",
       "       'some', '3d', 'thank', '1st', 'available', 'month', 'do',\n",
       "       'address', 'looking', '2nd', 'else', 'shown', 'your', 'regular',\n",
       "       'something', 'century', 'look', 'cost', 'whats', 'an', 'tickets',\n",
       "       'have', 'city', 'next', 'could', 'week', 'shazam', 'does', 'buy',\n",
       "       'think', 'one', 'cinema', 'yes', 'when'], dtype='<U15')"
      ]
     },
     "execution_count": 11,
     "metadata": {},
     "output_type": "execute_result"
    }
   ],
   "source": [
    "vocab = np.array(encoder.get_vocabulary())\n",
    "vocab[:100]"
   ]
  },
  {
   "cell_type": "code",
   "execution_count": 12,
   "id": "b46b0f50",
   "metadata": {},
   "outputs": [
    {
     "data": {
      "text/plain": [
       "array([[ 27,  28,   2,  60,  53, 129,  76,   0,   0,   0,   0,   0,   0,\n",
       "          0,   0,   0,   0,   0,   0,   0,   0,   0,   0,   0,   0],\n",
       "       [290,  55,  64,   5,  26,  65,   0,   0,   0,   0,   0,   0,   0,\n",
       "          0,   0,   0,   0,   0,   0,   0,   0,   0,   0,   0,   0],\n",
       "       [ 18,  36,   2,  95, 165,  94, 119, 107,   0,   0,   0,   0,   0,\n",
       "          0,   0,   0,   0,   0,   0,   0,   0,   0,   0,   0,   0]])"
      ]
     },
     "execution_count": 12,
     "metadata": {},
     "output_type": "execute_result"
    }
   ],
   "source": [
    "encoded_example = encoder(example)[:3].numpy()\n",
    "encoded_example"
   ]
  },
  {
   "cell_type": "code",
   "execution_count": 13,
   "id": "ee898ae1",
   "metadata": {},
   "outputs": [
    {
     "name": "stdout",
     "output_type": "stream",
     "text": [
      "Original:  b\"Sounds good. I don't need anything else.\"\n",
      "Round-trip:  sounds good i dont need anything else                  \n",
      "\n",
      "Original:  b'Alright, how much is that ticket?'\n",
      "Round-trip:  alright how much is that ticket                   \n",
      "\n",
      "Original:  b\"No thanks, I think I'll buy them later\"\n",
      "Round-trip:  no thanks i think ill buy them later                 \n",
      "\n"
     ]
    }
   ],
   "source": [
    "for n in range(3):\n",
    "  print(\"Original: \", example[n].numpy())\n",
    "  print(\"Round-trip: \", \" \".join(vocab[encoded_example[n]]))\n",
    "  print()"
   ]
  },
  {
   "cell_type": "code",
   "execution_count": 14,
   "id": "32b0ed50",
   "metadata": {},
   "outputs": [],
   "source": [
    "model = tf.keras.Sequential([\n",
    "    encoder,\n",
    "    tf.keras.layers.Embedding(\n",
    "        input_dim=len(encoder.get_vocabulary()),\n",
    "        output_dim=64,\n",
    "        # Use masking to handle the variable sequence lengths\n",
    "        mask_zero=True),\n",
    "    tf.keras.layers.Bidirectional(tf.keras.layers.LSTM(64)),\n",
    "    tf.keras.layers.Dense(64, activation='relu'),\n",
    "    tf.keras.layers.Dense(1)\n",
    "])"
   ]
  },
  {
   "cell_type": "code",
   "execution_count": 15,
   "id": "caa685cd",
   "metadata": {},
   "outputs": [
    {
     "name": "stdout",
     "output_type": "stream",
     "text": [
      "[0.0082386]\n"
     ]
    }
   ],
   "source": [
    "# predict on a sample text without padding.\n",
    "\n",
    "sample_text = ('Please check the showtimes for next Friday.')\n",
    "predictions = model.predict(np.array([sample_text]))\n",
    "print(predictions[0])"
   ]
  },
  {
   "cell_type": "code",
   "execution_count": 16,
   "id": "2d63963c",
   "metadata": {},
   "outputs": [
    {
     "name": "stdout",
     "output_type": "stream",
     "text": [
      "[0.00823859]\n"
     ]
    }
   ],
   "source": [
    "# predict on a sample text with padding\n",
    "\n",
    "padding = \"the \" * 2000\n",
    "\n",
    "predictions = model.predict(np.array([sample_text, padding]))\n",
    "print(predictions[0])"
   ]
  },
  {
   "cell_type": "code",
   "execution_count": 17,
   "id": "65fea2a9",
   "metadata": {},
   "outputs": [],
   "source": [
    "model.compile(loss=tf.keras.losses.CategoricalCrossentropy(from_logits=True),\n",
    "              optimizer=tf.keras.optimizers.Adam(1e-4),\n",
    "              metrics=['accuracy'])"
   ]
  },
  {
   "cell_type": "code",
   "execution_count": 18,
   "id": "96a06446",
   "metadata": {},
   "outputs": [
    {
     "name": "stdout",
     "output_type": "stream",
     "text": [
      "Epoch 1/10\n",
      "30/30 [==============================] - 12s 136ms/step - loss: 0.0000e+00 - accuracy: 0.4454 - val_loss: 0.0000e+00 - val_accuracy: 0.0016\n",
      "Epoch 2/10\n",
      "30/30 [==============================] - 1s 40ms/step - loss: 0.0000e+00 - accuracy: 0.4454 - val_loss: 0.0000e+00 - val_accuracy: 0.0016\n",
      "Epoch 3/10\n",
      "30/30 [==============================] - 1s 39ms/step - loss: 0.0000e+00 - accuracy: 0.4454 - val_loss: 0.0000e+00 - val_accuracy: 0.0016\n",
      "Epoch 4/10\n",
      "30/30 [==============================] - 1s 40ms/step - loss: 0.0000e+00 - accuracy: 0.4216 - val_loss: 0.0000e+00 - val_accuracy: 0.0010\n",
      "Epoch 5/10\n",
      "30/30 [==============================] - 1s 39ms/step - loss: 0.0000e+00 - accuracy: 0.2579 - val_loss: 0.0000e+00 - val_accuracy: 0.0000e+00\n",
      "Epoch 6/10\n",
      "30/30 [==============================] - 1s 41ms/step - loss: 0.0000e+00 - accuracy: 0.2103 - val_loss: 0.0000e+00 - val_accuracy: 0.0000e+00\n",
      "Epoch 7/10\n",
      "30/30 [==============================] - 1s 40ms/step - loss: 0.0000e+00 - accuracy: 0.2304 - val_loss: 0.0000e+00 - val_accuracy: 0.0000e+00\n",
      "Epoch 8/10\n",
      "30/30 [==============================] - 1s 38ms/step - loss: 0.0000e+00 - accuracy: 0.2511 - val_loss: 0.0000e+00 - val_accuracy: 0.0000e+00\n",
      "Epoch 9/10\n",
      "30/30 [==============================] - 1s 39ms/step - loss: 0.0000e+00 - accuracy: 0.2717 - val_loss: 0.0000e+00 - val_accuracy: 0.0000e+00\n",
      "Epoch 10/10\n",
      "30/30 [==============================] - 1s 40ms/step - loss: 0.0000e+00 - accuracy: 0.2897 - val_loss: 0.0000e+00 - val_accuracy: 0.0000e+00\n"
     ]
    }
   ],
   "source": [
    "history = model.fit(train_dataset, epochs=10,\n",
    "                    validation_data=test_dataset,\n",
    "                    validation_steps=30)"
   ]
  },
  {
   "cell_type": "code",
   "execution_count": 19,
   "id": "8152b8ac",
   "metadata": {},
   "outputs": [
    {
     "name": "stdout",
     "output_type": "stream",
     "text": [
      "41/41 [==============================] - 0s 12ms/step - loss: 0.0000e+00 - accuracy: 0.0050\n",
      "Test Loss: 0.0\n",
      "Test Accuracy: 0.004973221104592085\n"
     ]
    }
   ],
   "source": [
    "test_loss, test_acc = model.evaluate(test_dataset)\n",
    "\n",
    "print('Test Loss:', test_loss)\n",
    "print('Test Accuracy:', test_acc)"
   ]
  },
  {
   "cell_type": "markdown",
   "id": "5d056b20",
   "metadata": {},
   "source": [
    "---"
   ]
  },
  {
   "cell_type": "code",
   "execution_count": 20,
   "id": "d9b00488",
   "metadata": {},
   "outputs": [],
   "source": [
    "model = tf.keras.Sequential([\n",
    "    encoder,\n",
    "    tf.keras.layers.Embedding(len(encoder.get_vocabulary()), 64, mask_zero=True),\n",
    "    tf.keras.layers.Bidirectional(tf.keras.layers.LSTM(64,  return_sequences=True)),\n",
    "    tf.keras.layers.Bidirectional(tf.keras.layers.LSTM(32)),\n",
    "    tf.keras.layers.Dense(64, activation='relu'),\n",
    "    tf.keras.layers.Dropout(0.5),\n",
    "    tf.keras.layers.Dense(1)\n",
    "])"
   ]
  },
  {
   "cell_type": "code",
   "execution_count": 21,
   "id": "79dbeccf",
   "metadata": {},
   "outputs": [],
   "source": [
    "model.compile(loss=tf.keras.losses.CategoricalCrossentropy(from_logits=True),\n",
    "              optimizer=tf.keras.optimizers.Adam(1e-4),\n",
    "              metrics=['accuracy'])"
   ]
  },
  {
   "cell_type": "code",
   "execution_count": 22,
   "id": "2aa8a00e",
   "metadata": {},
   "outputs": [
    {
     "name": "stdout",
     "output_type": "stream",
     "text": [
      "Epoch 1/10\n",
      "30/30 [==============================] - 29s 262ms/step - loss: 0.0000e+00 - accuracy: 0.4454 - val_loss: 0.0000e+00 - val_accuracy: 0.0016\n",
      "Epoch 2/10\n",
      "30/30 [==============================] - 2s 68ms/step - loss: 0.0000e+00 - accuracy: 0.4454 - val_loss: 0.0000e+00 - val_accuracy: 0.0016\n",
      "Epoch 3/10\n",
      "30/30 [==============================] - 2s 67ms/step - loss: 0.0000e+00 - accuracy: 0.4460 - val_loss: 0.0000e+00 - val_accuracy: 0.0016\n",
      "Epoch 4/10\n",
      "30/30 [==============================] - 2s 68ms/step - loss: 0.0000e+00 - accuracy: 0.3967 - val_loss: 0.0000e+00 - val_accuracy: 0.0010\n",
      "Epoch 5/10\n",
      "30/30 [==============================] - 2s 71ms/step - loss: 0.0000e+00 - accuracy: 0.2309 - val_loss: 0.0000e+00 - val_accuracy: 0.0000e+00\n",
      "Epoch 6/10\n",
      "30/30 [==============================] - 2s 70ms/step - loss: 0.0000e+00 - accuracy: 0.1970 - val_loss: 0.0000e+00 - val_accuracy: 0.0000e+00\n",
      "Epoch 7/10\n",
      "30/30 [==============================] - 2s 66ms/step - loss: 0.0000e+00 - accuracy: 0.2643 - val_loss: 0.0000e+00 - val_accuracy: 0.0000e+00\n",
      "Epoch 8/10\n",
      "30/30 [==============================] - 2s 65ms/step - loss: 0.0000e+00 - accuracy: 0.3400 - val_loss: 0.0000e+00 - val_accuracy: 0.0000e+00\n",
      "Epoch 9/10\n",
      "30/30 [==============================] - 2s 68ms/step - loss: 0.0000e+00 - accuracy: 0.3882 - val_loss: 0.0000e+00 - val_accuracy: 0.0000e+00\n",
      "Epoch 10/10\n",
      "30/30 [==============================] - 2s 65ms/step - loss: 0.0000e+00 - accuracy: 0.4232 - val_loss: 0.0000e+00 - val_accuracy: 0.0000e+00\n"
     ]
    }
   ],
   "source": [
    "history = model.fit(train_dataset, epochs=10,\n",
    "                    validation_data=test_dataset,\n",
    "                    validation_steps=30)"
   ]
  },
  {
   "cell_type": "code",
   "execution_count": 23,
   "id": "22084c04",
   "metadata": {},
   "outputs": [
    {
     "name": "stdout",
     "output_type": "stream",
     "text": [
      "41/41 [==============================] - 1s 18ms/step - loss: 0.0000e+00 - accuracy: 0.0038\n",
      "Test Loss: 0.0\n",
      "Test Accuracy: 0.0038255546241998672\n"
     ]
    }
   ],
   "source": [
    "test_loss, test_acc = model.evaluate(test_dataset)\n",
    "\n",
    "print('Test Loss:', test_loss)\n",
    "print('Test Accuracy:', test_acc)"
   ]
  },
  {
   "cell_type": "code",
   "execution_count": null,
   "id": "8a349d76",
   "metadata": {},
   "outputs": [],
   "source": []
  }
 ],
 "metadata": {
  "kernelspec": {
   "display_name": "Python 3 (ipykernel)",
   "language": "python",
   "name": "python3"
  },
  "language_info": {
   "codemirror_mode": {
    "name": "ipython",
    "version": 3
   },
   "file_extension": ".py",
   "mimetype": "text/x-python",
   "name": "python",
   "nbconvert_exporter": "python",
   "pygments_lexer": "ipython3",
   "version": "3.8.10"
  }
 },
 "nbformat": 4,
 "nbformat_minor": 5
}
