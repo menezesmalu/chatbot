{
  "nbformat": 4,
  "nbformat_minor": 0,
  "metadata": {
    "accelerator": "GPU",
    "colab": {
      "name": "classification_yelp",
      "provenance": [],
      "collapsed_sections": [],
      "include_colab_link": true
    },
    "kernelspec": {
      "display_name": "Python 3",
      "name": "python3"
    }
  },
  "cells": [
    {
      "cell_type": "markdown",
      "metadata": {
        "id": "view-in-github",
        "colab_type": "text"
      },
      "source": [
        "<a href=\"https://colab.research.google.com/github/menezesmalu/chatbot/blob/main/classification_yelp.ipynb\" target=\"_parent\"><img src=\"https://colab.research.google.com/assets/colab-badge.svg\" alt=\"Open In Colab\"/></a>"
      ]
    },
    {
      "cell_type": "markdown",
      "metadata": {
        "id": "9TnJztDZGw-n"
      },
      "source": [
        "# Text classification with an RNN"
      ]
    },
    {
      "cell_type": "markdown",
      "metadata": {
        "id": "_2VQo4bajwUU"
      },
      "source": [
        "## Setup"
      ]
    },
    {
      "cell_type": "code",
      "metadata": {
        "id": "z682XYsrjkY9"
      },
      "source": [
        "import numpy as np\n",
        "\n",
        "import tensorflow_datasets as tfds\n",
        "import tensorflow as tf\n",
        "\n",
        "from tensorflow import keras\n",
        "from tensorflow.keras import layers\n",
        "\n",
        "tfds.disable_progress_bar()"
      ],
      "execution_count": null,
      "outputs": []
    },
    {
      "cell_type": "markdown",
      "metadata": {
        "id": "1rXHa-w9JZhb"
      },
      "source": [
        "Import `matplotlib` and create a helper function to plot graphs:"
      ]
    },
    {
      "cell_type": "code",
      "metadata": {
        "id": "Mp1Z7P9pYRSK"
      },
      "source": [
        "import matplotlib.pyplot as plt\n",
        "\n",
        "\n",
        "def plot_graphs(history, metric):\n",
        "  plt.plot(history.history[metric])\n",
        "  plt.plot(history.history['val_'+metric], '')\n",
        "  plt.xlabel(\"Epochs\")\n",
        "  plt.ylabel(metric)\n",
        "  plt.legend([metric, 'val_'+metric])"
      ],
      "execution_count": null,
      "outputs": []
    },
    {
      "cell_type": "markdown",
      "metadata": {
        "id": "pRmMubr0jrE2"
      },
      "source": [
        "## Setup input pipeline\n",
        "\n",
        "[yelp_polarity_reviews](https://www.tensorflow.org/datasets/catalog/yelp_polarity_reviews?hl=pt-br)\n",
        "\n",
        "O conjunto utilizado é de avaliação binária de restaurantes na plataforma Yelp.\n",
        "\n",
        "O conjunto de dados de polaridade das revisões do Yelp é construído considerando as estrelas 1 e 2 negativas e 3 e 4 positivas. Para cada polaridade, 280.000 amostras de treinamento e 19.000 amostras de teste são retiradas aleatoriamente. No total, são 560.000 amostras de treinamento e 38.000 amostras de teste. A polaridade negativa é classe 1 e classe positiva 2.\n",
        "\n",
        "\n",
        "O dataset foi encontrado através do TFDS"
      ]
    },
    {
      "cell_type": "code",
      "metadata": {
        "id": "SHRwRoP2nVHX",
        "colab": {
          "base_uri": "https://localhost:8080/"
        },
        "outputId": "323cf4ff-3d64-47c8-e2a9-47e0b875b6c1"
      },
      "source": [
        "dataset, info = tfds.load('yelp_polarity_reviews', with_info=True,\n",
        "                          as_supervised=True)\n",
        "train_dataset, test_dataset = dataset['train'], dataset['test']\n",
        "\n",
        "train_dataset.element_spec"
      ],
      "execution_count": null,
      "outputs": [
        {
          "output_type": "stream",
          "text": [
            "\u001b[1mDownloading and preparing dataset yelp_polarity_reviews/plain_text/0.1.0 (download: Unknown size, generated: 435.14 MiB, total: 435.14 MiB) to /root/tensorflow_datasets/yelp_polarity_reviews/plain_text/0.1.0...\u001b[0m\n",
            "Shuffling and writing examples to /root/tensorflow_datasets/yelp_polarity_reviews/plain_text/0.1.0.incompleteC3G1HU/yelp_polarity_reviews-train.tfrecord\n"
          ],
          "name": "stdout"
        },
        {
          "output_type": "stream",
          "text": [
            "WARNING:absl:Dataset is using deprecated text encoder API which will be removed soon. Please use the plain_text version of the dataset and migrate to `tensorflow_text`.\n"
          ],
          "name": "stderr"
        },
        {
          "output_type": "stream",
          "text": [
            "Shuffling and writing examples to /root/tensorflow_datasets/yelp_polarity_reviews/plain_text/0.1.0.incompleteC3G1HU/yelp_polarity_reviews-test.tfrecord\n",
            "\u001b[1mDataset yelp_polarity_reviews downloaded and prepared to /root/tensorflow_datasets/yelp_polarity_reviews/plain_text/0.1.0. Subsequent calls will reuse this data.\u001b[0m\n"
          ],
          "name": "stdout"
        },
        {
          "output_type": "execute_result",
          "data": {
            "text/plain": [
              "(TensorSpec(shape=(), dtype=tf.string, name=None),\n",
              " TensorSpec(shape=(), dtype=tf.int64, name=None))"
            ]
          },
          "metadata": {
            "tags": []
          },
          "execution_count": 3
        }
      ]
    },
    {
      "cell_type": "markdown",
      "metadata": {
        "id": "nWA4c2ir7g6p"
      },
      "source": [
        "Initially this returns a dataset of (text, label pairs):"
      ]
    },
    {
      "cell_type": "code",
      "metadata": {
        "id": "vd4_BGKyurao",
        "colab": {
          "base_uri": "https://localhost:8080/"
        },
        "outputId": "98cbe334-cf03-46ef-f99e-448be1e41d26"
      },
      "source": [
        "for example, label in train_dataset.take(1):\n",
        "  print('text: ', example.numpy())\n",
        "  print('label: ', label.numpy())"
      ],
      "execution_count": null,
      "outputs": [
        {
          "output_type": "stream",
          "text": [
            "text:  b\"The Groovy P. and I ventured to his old stomping grounds for lunch today.  The '5 and Diner' on 16th St and Colter left me with little to ask for.  Before coming here I had a preconceived notion that 5 & Diners were dirty and nasty. Not the case at all.\\\\n\\\\nWe walk in and let the waitress know we want to sit outside (since it's so nice and they had misters).  We get two different servers bringing us stuff (talk about service) and I ask the one waitress for recommendations.  I didn't listen to her, of course, and ordered the Southwestern Burger w/ coleslaw and started with a nice stack of rings.\\\\n\\\\nThe Onion Rings were perfectly cooked.  They looked like they were prepackaged, but they were very crispy and I could actually bite through the onion without pulling the entire thing out (don't you hate that?!!!)\\\\n\\\\nThe Southwestern Burger was order Medium Rare and was cooked accordingly.  Soft, juicy, and pink with a nice crispy browned outer layer that can only be achieved on a well used grill.  The creaminess of the chipotle mayo paired beautifully with the green chiles.  Unfortunately, because I ate too many onion rings, I couldn't finish my burger.  What a shame!\\\\n\\\\nThe Coleslaw was just how I like it.  It's hard to find a really good coleslaw.  I prefer mine to be slightly sweet, not sour.  Too much vinegar in slaw ruins it in my opinion.  This slaw had the perfect marriage of mayo, vinegar, and sugar. Not to mention carrots...\\\\n\\\\nMy experience here was great!  The servers were top notch and kept my water full the entire time and actually chatted with us for a few minutes.\\\\n\\\\nThere is an artist guy named Ross who has been there every day for 5393 days straight. No, not an employee.  He goes there and does his art! He hasn't missed a SINGLE day!!! That's like... 15 years! So if you wanna seem to be 'in the know' ask where Ross is... They'll be able to tell you.\\\\n\\\\nTime for a nap!\"\n",
            "label:  1\n"
          ],
          "name": "stdout"
        }
      ]
    },
    {
      "cell_type": "markdown",
      "metadata": {
        "id": "z2qVJzcEluH_"
      },
      "source": [
        "Next shuffle the data for training and create batches of these `(text, label)` pairs:"
      ]
    },
    {
      "cell_type": "code",
      "metadata": {
        "id": "dDsCaZCDYZgm"
      },
      "source": [
        "BUFFER_SIZE = 10000\n",
        "BATCH_SIZE = 64"
      ],
      "execution_count": null,
      "outputs": []
    },
    {
      "cell_type": "code",
      "metadata": {
        "id": "VznrltNOnUc5"
      },
      "source": [
        "train_dataset = train_dataset.shuffle(BUFFER_SIZE).batch(BATCH_SIZE).prefetch(tf.data.AUTOTUNE)\n",
        "test_dataset = test_dataset.batch(BATCH_SIZE).prefetch(tf.data.AUTOTUNE)"
      ],
      "execution_count": null,
      "outputs": []
    },
    {
      "cell_type": "code",
      "metadata": {
        "id": "jqkvdcFv41wC",
        "colab": {
          "base_uri": "https://localhost:8080/"
        },
        "outputId": "68725714-90ed-421e-ca63-c84243c1d321"
      },
      "source": [
        "for example, label in train_dataset.take(1):\n",
        "  print('texts: ', example.numpy()[:3])\n",
        "  print()\n",
        "  print('labels: ', label.numpy()[:3])"
      ],
      "execution_count": null,
      "outputs": [
        {
          "output_type": "stream",
          "text": [
            "texts:  [b\"Get here early. The place fills up quickly. \\\\n\\\\nI love this place now. The new update makes the place so much more inviting. \\\\n\\\\nThe parking is validated for up to 4 hours, which is really awesome. The only reason I gave it for stars was because of the popcorn. You are a movie theatre, your popcorn should be on point. I don't know what it is, but something is not right about it.\"\n",
            " b\"Me and the wifey finally made it to this place. We are big seafood/oyster fans and as most of you know there are few options for good oysters in CLT area. Oysters were good but way pricey. Everything else was an epic FAIL. Service was weak. Bartenders and servers were lethargic. Draft beer was flat. We sat in bar area at a hightop and watched beer after beer get returned for same reason. Bartender did nothing to adjust CO2. He was more concerned with the FSU-NCSU football game. Wife ordered glass of Chardonnay  and the pour on the wine was very weak as well. Maybe a 1/4 glass full. Other food besides oysters were disappointing. Salad was dry and looked old and tasted bland. Left at 6: 45 on Saturday evening and the place had 12 people inside. Unless late night rocks it out this place won't make it. Disappointing way to start a Saturday night. Two stars only because oysters were fresh and did taste good.\"\n",
            " b\"On Sundays they serve brunch until around 4, I think. Their brunch menu is a little limited compared to their regular menu, but still offers some great dishes. This is far from fine-dining, so don't come here expecting to be blown away by the creativity or presentation of the food. What it does offer, however, is bar/diner food kicked up a notch.\\\\n\\\\nDonuts: I guess for brunch they start you off w/ donuts instead of pretzel bread. I can't complain because the donuts were great.\\\\n\\\\nMini burgers: 4 big sliders. The meat was tender and delicious and the bread was heavily buttered and chewy. The side order of parmesan shoestring fries was really good -- crispy and addictive.\\\\n\\\\nPatty melt: What a great sandwich! Lots of flavor with the truffled mayo, mushrooms, and brie. The bread was amazing. It's a big sandwich also. I could only finish half of it.\\\\n\\\\nPork egg rolls: It came with 4 pieces of egg rolls deep-fried and topped w/ some slaw. The pork wasn't very tender and it was a little too spicy for me but still a decent dish.\\\\n\\\\nAs other reviews have mentioned, the space is cool and trendy and provides a good view of Treasure Island and the north part of the strip.\"]\n",
            "\n",
            "labels:  [1 0 1]\n"
          ],
          "name": "stdout"
        }
      ]
    },
    {
      "cell_type": "markdown",
      "metadata": {
        "id": "s5eWCo88voPY"
      },
      "source": [
        "## Create the text encoder"
      ]
    },
    {
      "cell_type": "code",
      "metadata": {
        "id": "uC25Lu1Yvuqy"
      },
      "source": [
        "VOCAB_SIZE = 1000\n",
        "encoder = tf.keras.layers.experimental.preprocessing.TextVectorization(\n",
        "    max_tokens=VOCAB_SIZE)\n",
        "encoder.adapt(train_dataset.map(lambda text, label: text))"
      ],
      "execution_count": null,
      "outputs": []
    },
    {
      "cell_type": "code",
      "metadata": {
        "id": "tBoyjjWg0Ac9",
        "colab": {
          "base_uri": "https://localhost:8080/"
        },
        "outputId": "e9a206ac-af21-48ea-ae1f-e5457d2999d7"
      },
      "source": [
        "vocab = np.array(encoder.get_vocabulary())\n",
        "vocab[:20]"
      ],
      "execution_count": null,
      "outputs": [
        {
          "output_type": "execute_result",
          "data": {
            "text/plain": [
              "array(['', '[UNK]', 'the', 'and', 'i', 'to', 'a', 'was', 'of', 'it',\n",
              "       'for', 'in', 'is', 'that', 'my', 'we', 'this', 'with', 'but',\n",
              "       'they'], dtype='<U13')"
            ]
          },
          "metadata": {
            "tags": []
          },
          "execution_count": 9
        }
      ]
    },
    {
      "cell_type": "code",
      "metadata": {
        "id": "RGc7C9WiwRWs",
        "colab": {
          "base_uri": "https://localhost:8080/"
        },
        "outputId": "45103d86-e432-412d-d3ee-f25f1a91c0b0"
      },
      "source": [
        "encoded_example = encoder(example)[:3].numpy()\n",
        "encoded_example"
      ],
      "execution_count": null,
      "outputs": [
        {
          "output_type": "execute_result",
          "data": {
            "text/plain": [
              "array([[ 43,  45, 605, ...,   0,   0,   0],\n",
              "       [ 32,   3,   2, ...,   0,   0,   0],\n",
              "       [ 21,   1,  19, ...,   0,   0,   0]])"
            ]
          },
          "metadata": {
            "tags": []
          },
          "execution_count": 10
        }
      ]
    },
    {
      "cell_type": "code",
      "metadata": {
        "id": "N_tD0QY5wXaK",
        "colab": {
          "base_uri": "https://localhost:8080/"
        },
        "outputId": "353a9917-82e3-4ab1-f20e-ae315557aaf0"
      },
      "source": [
        "for n in range(3):\n",
        "  print(\"Original: \", example[n].numpy())\n",
        "  print(\"Round-trip: \", \" \".join(vocab[encoded_example[n]]))\n",
        "  print()"
      ],
      "execution_count": null,
      "outputs": [
        {
          "output_type": "stream",
          "text": [
            "Original:  b\"Get here early. The place fills up quickly. \\\\n\\\\nI love this place now. The new update makes the place so much more inviting. \\\\n\\\\nThe parking is validated for up to 4 hours, which is really awesome. The only reason I gave it for stars was because of the popcorn. You are a movie theatre, your popcorn should be on point. I don't know what it is, but something is not right about it.\"\n",
            "Round-trip:  get here early the place [UNK] up quickly nni love this place now the new [UNK] makes the place so much more [UNK] nnthe parking is [UNK] for up to 4 hours which is really awesome the only reason i gave it for stars was because of the [UNK] you are a [UNK] [UNK] your [UNK] should be on point i dont know what it is but something is not right about it                                                                                                                                                                                                                                                                                                                                                                                                                                                                                                                                                 \n",
            "\n",
            "Original:  b\"Me and the wifey finally made it to this place. We are big seafood/oyster fans and as most of you know there are few options for good oysters in CLT area. Oysters were good but way pricey. Everything else was an epic FAIL. Service was weak. Bartenders and servers were lethargic. Draft beer was flat. We sat in bar area at a hightop and watched beer after beer get returned for same reason. Bartender did nothing to adjust CO2. He was more concerned with the FSU-NCSU football game. Wife ordered glass of Chardonnay  and the pour on the wine was very weak as well. Maybe a 1/4 glass full. Other food besides oysters were disappointing. Salad was dry and looked old and tasted bland. Left at 6: 45 on Saturday evening and the place had 12 people inside. Unless late night rocks it out this place won't make it. Disappointing way to start a Saturday night. Two stars only because oysters were fresh and did taste good.\"\n",
            "Round-trip:  me and the [UNK] finally made it to this place we are big [UNK] [UNK] and as most of you know there are few options for good [UNK] in [UNK] area [UNK] were good but way pricey everything else was an [UNK] [UNK] service was [UNK] [UNK] and servers were [UNK] [UNK] beer was [UNK] we sat in bar area at a [UNK] and [UNK] beer after beer get [UNK] for same reason bartender did nothing to [UNK] [UNK] he was more [UNK] with the [UNK] [UNK] game wife ordered glass of [UNK] and the [UNK] on the wine was very [UNK] as well maybe a [UNK] glass full other food [UNK] [UNK] were disappointing salad was dry and looked old and tasted bland left at 6 45 on saturday evening and the place had 12 people inside unless late night [UNK] it out this place wont make it disappointing way to start a saturday night two stars only because [UNK] were fresh and did taste good                                                                                                                                                                                                                                                                                                                                                                                                                                                   \n",
            "\n",
            "Original:  b\"On Sundays they serve brunch until around 4, I think. Their brunch menu is a little limited compared to their regular menu, but still offers some great dishes. This is far from fine-dining, so don't come here expecting to be blown away by the creativity or presentation of the food. What it does offer, however, is bar/diner food kicked up a notch.\\\\n\\\\nDonuts: I guess for brunch they start you off w/ donuts instead of pretzel bread. I can't complain because the donuts were great.\\\\n\\\\nMini burgers: 4 big sliders. The meat was tender and delicious and the bread was heavily buttered and chewy. The side order of parmesan shoestring fries was really good -- crispy and addictive.\\\\n\\\\nPatty melt: What a great sandwich! Lots of flavor with the truffled mayo, mushrooms, and brie. The bread was amazing. It's a big sandwich also. I could only finish half of it.\\\\n\\\\nPork egg rolls: It came with 4 pieces of egg rolls deep-fried and topped w/ some slaw. The pork wasn't very tender and it was a little too spicy for me but still a decent dish.\\\\n\\\\nAs other reviews have mentioned, the space is cool and trendy and provides a good view of Treasure Island and the north part of the strip.\"\n",
            "Round-trip:  on [UNK] they serve brunch until around 4 i think their brunch menu is a little [UNK] [UNK] to their regular menu but still [UNK] some great dishes this is far from [UNK] so dont come here expecting to be [UNK] away by the [UNK] or [UNK] of the food what it does offer however is [UNK] food [UNK] up a [UNK] i guess for brunch they start you off [UNK] [UNK] instead of [UNK] bread i cant [UNK] because the [UNK] were [UNK] burgers 4 big [UNK] the meat was tender and delicious and the bread was [UNK] [UNK] and [UNK] the side order of [UNK] [UNK] fries was really good crispy and [UNK] [UNK] what a great sandwich lots of flavor with the [UNK] [UNK] [UNK] and [UNK] the bread was amazing its a big sandwich also i could only finish half of [UNK] egg rolls it came with 4 pieces of egg rolls [UNK] and [UNK] [UNK] some [UNK] the pork wasnt very tender and it was a little too spicy for me but still a decent [UNK] other reviews have mentioned the space is cool and [UNK] and [UNK] a good view of [UNK] [UNK] and the [UNK] part of the strip                                                                                                                                                                                                                                                                                                                                                                                                            \n",
            "\n"
          ],
          "name": "stdout"
        }
      ]
    },
    {
      "cell_type": "markdown",
      "metadata": {
        "id": "bjUqGVBxGw-t"
      },
      "source": [
        "## Create the model"
      ]
    },
    {
      "cell_type": "markdown",
      "metadata": {
        "id": "V4fodCI7soQi"
      },
      "source": [
        "The code to implement this is below:"
      ]
    },
    {
      "cell_type": "code",
      "metadata": {
        "id": "LwfoBkmRYcP3"
      },
      "source": [
        "model = tf.keras.Sequential([\n",
        "    encoder,\n",
        "    tf.keras.layers.Embedding(\n",
        "        input_dim=len(encoder.get_vocabulary()),\n",
        "        output_dim=64,\n",
        "        # Use masking to handle the variable sequence lengths\n",
        "        mask_zero=True),\n",
        "    tf.keras.layers.Bidirectional(tf.keras.layers.LSTM(64)),\n",
        "    tf.keras.layers.Dense(64, activation='relu'),\n",
        "    tf.keras.layers.Dense(1)\n",
        "])"
      ],
      "execution_count": null,
      "outputs": []
    },
    {
      "cell_type": "code",
      "metadata": {
        "id": "87a8-CwfKebw",
        "colab": {
          "base_uri": "https://localhost:8080/"
        },
        "outputId": "2a9d82ce-cf4b-4689-a84c-4769b56d7977"
      },
      "source": [
        "print([layer.supports_masking for layer in model.layers])"
      ],
      "execution_count": null,
      "outputs": [
        {
          "output_type": "stream",
          "text": [
            "[False, True, True, True, True]\n"
          ],
          "name": "stdout"
        }
      ]
    },
    {
      "cell_type": "code",
      "metadata": {
        "id": "O41gw3KfWHus",
        "colab": {
          "base_uri": "https://localhost:8080/"
        },
        "outputId": "9efb4c7f-8eb9-4c95-c1df-6f30600c576d"
      },
      "source": [
        "# predict on a sample text \n",
        "sample_text = (\"The service is super slow!  We've been waiting for our food for an hour!\")\n",
        "predictions = model.predict(np.array([sample_text]))\n",
        "print(predictions[0])"
      ],
      "execution_count": null,
      "outputs": [
        {
          "output_type": "stream",
          "text": [
            "[0.00877833]\n"
          ],
          "name": "stdout"
        }
      ]
    },
    {
      "cell_type": "markdown",
      "metadata": {
        "id": "sRI776ZcH3Tf"
      },
      "source": [
        "Compile the Keras model to configure the training process:"
      ]
    },
    {
      "cell_type": "code",
      "metadata": {
        "id": "kj2xei41YZjC"
      },
      "source": [
        "model.compile(loss=tf.keras.losses.BinaryCrossentropy(from_logits=True),\n",
        "              optimizer=tf.keras.optimizers.Adam(1e-4),\n",
        "              metrics=['accuracy'])"
      ],
      "execution_count": null,
      "outputs": []
    },
    {
      "cell_type": "markdown",
      "metadata": {
        "id": "zIwH3nto596k"
      },
      "source": [
        "## Train the model"
      ]
    },
    {
      "cell_type": "code",
      "metadata": {
        "id": "jo1jjO3vn0jo"
      },
      "source": [
        "model = tf.keras.Sequential([\n",
        "    encoder,\n",
        "    tf.keras.layers.Embedding(len(encoder.get_vocabulary()), 64, mask_zero=True),\n",
        "    tf.keras.layers.Bidirectional(tf.keras.layers.LSTM(64,  return_sequences=True)),\n",
        "    tf.keras.layers.Bidirectional(tf.keras.layers.LSTM(32)),\n",
        "    tf.keras.layers.Dense(64, activation='relu'),\n",
        "    tf.keras.layers.Dense(10, activation='sigmoid'),\n",
        "    tf.keras.layers.Dropout(0.5),\n",
        "    tf.keras.layers.Dense(1)\n",
        "])\n"
      ],
      "execution_count": null,
      "outputs": []
    },
    {
      "cell_type": "code",
      "metadata": {
        "id": "TkXccVzunkpX"
      },
      "source": [
        "model.compile(loss=tf.keras.losses.BinaryCrossentropy(from_logits=True),\n",
        "              optimizer=tf.keras.optimizers.Adam(1e-4),\n",
        "              metrics=['accuracy'])"
      ],
      "execution_count": null,
      "outputs": []
    },
    {
      "cell_type": "code",
      "metadata": {
        "id": "LeSE-YjdqAeN",
        "colab": {
          "base_uri": "https://localhost:8080/"
        },
        "outputId": "2c0b1d75-9521-4894-9908-5f0fabdee281"
      },
      "source": [
        "history = model.fit(train_dataset, epochs=10,\n",
        "                    validation_data=test_dataset,\n",
        "                    validation_steps=30)"
      ],
      "execution_count": null,
      "outputs": [
        {
          "output_type": "stream",
          "text": [
            "Epoch 1/10\n",
            "8750/8750 [==============================] - 1022s 115ms/step - loss: 0.3671 - accuracy: 0.8506 - val_loss: 0.2331 - val_accuracy: 0.9156\n",
            "Epoch 2/10\n",
            "8750/8750 [==============================] - 995s 114ms/step - loss: 0.2789 - accuracy: 0.8824 - val_loss: 0.2069 - val_accuracy: 0.9083\n",
            "Epoch 3/10\n",
            "8750/8750 [==============================] - 992s 113ms/step - loss: 0.2664 - accuracy: 0.8875 - val_loss: 0.2040 - val_accuracy: 0.9187\n",
            "Epoch 4/10\n",
            "8750/8750 [==============================] - 999s 114ms/step - loss: 0.2540 - accuracy: 0.8915 - val_loss: 0.1830 - val_accuracy: 0.9172\n",
            "Epoch 5/10\n",
            "8750/8750 [==============================] - 1010s 115ms/step - loss: 0.2391 - accuracy: 0.8977 - val_loss: 0.1676 - val_accuracy: 0.9307\n",
            "Epoch 6/10\n",
            "2294/8750 [======>.......................] - ETA: 11:54 - loss: 0.2256 - accuracy: 0.9033"
          ],
          "name": "stdout"
        }
      ]
    },
    {
      "cell_type": "code",
      "metadata": {
        "id": "_LdwilM1qPM3"
      },
      "source": [
        "model.summary()"
      ],
      "execution_count": null,
      "outputs": []
    },
    {
      "cell_type": "code",
      "metadata": {
        "id": "jjUbW0T8npyA"
      },
      "source": [
        "test_loss, test_acc = model.evaluate(test_dataset)\n",
        "\n",
        "print('Test Loss:', test_loss)\n",
        "print('Test Accuracy:', test_acc)"
      ],
      "execution_count": null,
      "outputs": []
    },
    {
      "cell_type": "code",
      "metadata": {
        "id": "ykUKnAoqbycW"
      },
      "source": [
        "# predict on a sample text without padding.\n",
        "\n",
        "sample_text = (\"The service is super slow!  We've been waiting for our food for an hour!\")\n",
        "predictions = model.predict(np.array([sample_text]))\n",
        "print(predictions)"
      ],
      "execution_count": null,
      "outputs": []
    },
    {
      "cell_type": "code",
      "metadata": {
        "id": "_YYub0EDtwCu"
      },
      "source": [
        "plt.figure(figsize=(16, 6))\n",
        "plt.subplot(1, 2, 1)\n",
        "plot_graphs(history, 'accuracy')\n",
        "plt.subplot(1, 2, 2)\n",
        "plot_graphs(history, 'loss')"
      ],
      "execution_count": null,
      "outputs": []
    },
    {
      "cell_type": "markdown",
      "metadata": {
        "id": "vseOV7EQTKO6"
      },
      "source": [
        "# Extract data from datasets"
      ]
    },
    {
      "cell_type": "code",
      "metadata": {
        "id": "AVGe-mkmfbSw"
      },
      "source": [
        ""
      ],
      "execution_count": null,
      "outputs": []
    }
  ]
}