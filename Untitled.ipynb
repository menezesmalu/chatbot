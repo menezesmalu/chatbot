{
 "cells": [
  {
   "cell_type": "code",
   "execution_count": 2,
   "metadata": {},
   "outputs": [],
   "source": [
    "import numpy as np\n",
    "import tensorflow as tf\n",
    "import matplotlib.pyplot as plt\n",
    "import pandas as pd"
   ]
  },
  {
   "cell_type": "code",
   "execution_count": 4,
   "metadata": {},
   "outputs": [],
   "source": [
    "intent_mapper = {\n",
    "'AFFIRM': 1,\n",
    "'AFFIRM_INTENT': 2,\n",
    "'INFORM': 3,\n",
    "'INFORM_INTENT': 4,\n",
    "'NEGATE': 5,\n",
    "'NEGATE_INTENT': 6,\n",
    "'REQUEST': 7,\n",
    "'REQUEST_ALTS': 8,\n",
    "'SELECT':9,\n",
    "'THANK_YOU':10\n",
    "}"
   ]
  },
  {
   "cell_type": "code",
   "execution_count": 3,
   "metadata": {},
   "outputs": [],
   "source": [
    "TRAIN_DATASET_PATH = './data/classification/train_dataset.csv'\n",
    "TEST_DATASET_PATH = './data/classification/test_dataset.csv'\n",
    "VALID_DATASET_PATH = './data/classification/dev_dataset.csv'"
   ]
  },
  {
   "cell_type": "code",
   "execution_count": 6,
   "metadata": {},
   "outputs": [],
   "source": [
    "train_restaurant_dataset = pd.read_csv(TRAIN_DATASET_PATH)\n",
    "# pega 2 np arrays, um com as frases e outro com os respectivos intents\n",
    "train_dataset = train_restaurant_dataset.drop_duplicates(subset=['Sentence'])\n",
    "train_phrases = np.array(train_restaurant_dataset.Sentence)[1:]\n",
    "train_intents = np.array(train_restaurant_dataset.Intent.map(lambda x : intent_mapper[x]))[1:]\n"
   ]
  },
  {
   "cell_type": "code",
   "execution_count": 7,
   "metadata": {},
   "outputs": [],
   "source": [
    "\n",
    "test_dataset = pd.read_csv(TEST_DATASET_PATH)\n",
    "# pega 2 np arrays, um com as frases e outro com os respectivos intents\n",
    "test_dataset = test_dataset.drop_duplicates(subset=['Sentence'])\n",
    "test_phrases = np.array(test_dataset.Sentence)[1:]\n",
    "test_intents = np.array(test_dataset.Intent.map(lambda x : intent_mapper[x]))[1:]\n"
   ]
  },
  {
   "cell_type": "code",
   "execution_count": 8,
   "metadata": {},
   "outputs": [],
   "source": [
    "VOCAB_SIZE = 2000\n",
    "encoder = tf.keras.layers.experimental.preprocessing.TextVectorization(\n",
    "    max_tokens=VOCAB_SIZE)\n",
    "encoder.adapt(train_phrases)"
   ]
  },
  {
   "cell_type": "code",
   "execution_count": 9,
   "metadata": {},
   "outputs": [
    {
     "name": "stdout",
     "output_type": "stream",
     "text": [
      "783\n"
     ]
    },
    {
     "data": {
      "text/plain": [
       "array(['', '[UNK]', 'i', 'to', 'the', 'is', 'a', 'movie', 'watch', 'in',\n",
       "       'what', 'for', 'it', 'you', 'movies', 'want', 'of', 'can', 'no',\n",
       "       'like'], dtype='<U15')"
      ]
     },
     "execution_count": 9,
     "metadata": {},
     "output_type": "execute_result"
    }
   ],
   "source": [
    "vocab = np.array(encoder.get_vocabulary())\n",
    "print(len(encoder.get_vocabulary()))\n",
    "vocab[:20]"
   ]
  },
  {
   "cell_type": "code",
   "execution_count": 10,
   "metadata": {},
   "outputs": [],
   "source": [
    "\n",
    "model = tf.keras.Sequential([\n",
    "  encoder,\n",
    "  tf.keras.layers.Embedding(\n",
    "    input_dim=len(encoder.get_vocabulary()),\n",
    "    output_dim=64,\n",
    "    # Use masking to handle the variable sequence lengths\n",
    "    mask_zero=True),\n",
    "  tf.keras.layers.Bidirectional(tf.keras.layers.LSTM(64)),\n",
    "  tf.keras.layers.Dense(11, activation='softmax')\n",
    "])"
   ]
  },
  {
   "cell_type": "code",
   "execution_count": 11,
   "metadata": {},
   "outputs": [
    {
     "name": "stdout",
     "output_type": "stream",
     "text": [
      "[0.09134612 0.08937164 0.09175269 0.0912028  0.08964152 0.09107782\n",
      " 0.09174416 0.08992222 0.09105679 0.09239127 0.09049302]\n"
     ]
    }
   ],
   "source": [
    "\n",
    "# predict on a sample text without padding.\n",
    "\n",
    "sample_text = ('Please check the showtimes for next Friday.')\n",
    "predictions = model.predict(np.array([sample_text]))\n",
    "print(predictions[0])"
   ]
  },
  {
   "cell_type": "code",
   "execution_count": 12,
   "metadata": {},
   "outputs": [
    {
     "name": "stdout",
     "output_type": "stream",
     "text": [
      "[0.09134612 0.08937164 0.09175269 0.0912028  0.08964152 0.09107782\n",
      " 0.09174416 0.08992222 0.09105679 0.09239127 0.09049302]\n"
     ]
    }
   ],
   "source": [
    "# predict on a sample text with padding\n",
    "\n",
    "padding = \"the \" * 2000\n",
    "predictions = model.predict(np.array([sample_text, padding]))\n",
    "print(predictions[0])"
   ]
  },
  {
   "cell_type": "code",
   "execution_count": 14,
   "metadata": {},
   "outputs": [],
   "source": [
    "model.compile(loss=tf.keras.losses.SparseCategoricalCrossentropy(),\n",
    "              optimizer=tf.keras.optimizers.Adam(1e-4),\n",
    "              metrics=['accuracy'])"
   ]
  },
  {
   "cell_type": "code",
   "execution_count": 15,
   "metadata": {},
   "outputs": [
    {
     "name": "stdout",
     "output_type": "stream",
     "text": [
      "Epoch 1/20\n",
      "59/59 [==============================] - 17s 47ms/step - loss: 2.3719 - accuracy: 0.4208\n",
      "Epoch 2/20\n",
      "59/59 [==============================] - 4s 68ms/step - loss: 2.2548 - accuracy: 0.4473\n",
      "Epoch 3/20\n",
      "59/59 [==============================] - 3s 54ms/step - loss: 1.8173 - accuracy: 0.4457\n",
      "Epoch 4/20\n",
      "59/59 [==============================] - 3s 59ms/step - loss: 1.6200 - accuracy: 0.4457\n",
      "Epoch 5/20\n",
      "59/59 [==============================] - 3s 58ms/step - loss: 1.5155 - accuracy: 0.4499\n",
      "Epoch 6/20\n",
      "59/59 [==============================] - 4s 68ms/step - loss: 1.4363 - accuracy: 0.4732\n",
      "Epoch 7/20\n",
      "59/59 [==============================] - 3s 53ms/step - loss: 1.3659 - accuracy: 0.5050\n",
      "Epoch 8/20\n",
      "59/59 [==============================] - 3s 45ms/step - loss: 1.2938 - accuracy: 0.5623\n",
      "Epoch 9/20\n",
      "59/59 [==============================] - 3s 46ms/step - loss: 1.2103 - accuracy: 0.6158\n",
      "Epoch 10/20\n",
      "59/59 [==============================] - 3s 47ms/step - loss: 1.1138 - accuracy: 0.6571\n",
      "Epoch 11/20\n",
      "59/59 [==============================] - 3s 46ms/step - loss: 1.0081 - accuracy: 0.7027\n",
      "Epoch 12/20\n",
      "59/59 [==============================] - 3s 45ms/step - loss: 0.9091 - accuracy: 0.7276\n",
      "Epoch 13/20\n",
      "59/59 [==============================] - 3s 48ms/step - loss: 0.8186 - accuracy: 0.7515\n",
      "Epoch 14/20\n",
      "59/59 [==============================] - 3s 47ms/step - loss: 0.7431 - accuracy: 0.7790\n",
      "Epoch 15/20\n",
      "59/59 [==============================] - 3s 45ms/step - loss: 0.6809 - accuracy: 0.8066\n",
      "Epoch 16/20\n",
      "59/59 [==============================] - 3s 50ms/step - loss: 0.6284 - accuracy: 0.8262\n",
      "Epoch 17/20\n",
      "59/59 [==============================] - 3s 55ms/step - loss: 0.5843 - accuracy: 0.8373\n",
      "Epoch 18/20\n",
      "59/59 [==============================] - 3s 48ms/step - loss: 0.5409 - accuracy: 0.8527\n",
      "Epoch 19/20\n",
      "59/59 [==============================] - 3s 53ms/step - loss: 0.5031 - accuracy: 0.8627\n",
      "Epoch 20/20\n",
      "59/59 [==============================] - 3s 52ms/step - loss: 0.4690 - accuracy: 0.8728\n"
     ]
    }
   ],
   "source": [
    "history = model.fit(train_phrases, train_intents, epochs=20)\n"
   ]
  },
  {
   "cell_type": "code",
   "execution_count": 16,
   "metadata": {},
   "outputs": [
    {
     "name": "stdout",
     "output_type": "stream",
     "text": [
      "              precision    recall  f1-score   support\n",
      "\n",
      "           1       1.00      0.00      0.00        44\n",
      "           2       1.00      0.00      0.00        13\n",
      "           3       0.93      0.92      0.93      1179\n",
      "           4       0.65      0.80      0.72       313\n",
      "           5       0.69      0.80      0.74       157\n",
      "           6       0.88      0.32      0.47       108\n",
      "           7       0.63      0.66      0.64       233\n",
      "           8       1.00      0.10      0.18        92\n",
      "           9       0.68      0.96      0.80       415\n",
      "          10       1.00      0.00      0.00        59\n",
      "\n",
      "    accuracy                           0.79      2613\n",
      "   macro avg       0.85      0.46      0.45      2613\n",
      "weighted avg       0.82      0.79      0.76      2613\n",
      "\n"
     ]
    }
   ],
   "source": [
    "\n",
    "from sklearn.metrics import classification_report\n",
    "\n",
    "test_phrases = np.array(test_dataset.Sentence)[1:]\n",
    "test_intents = np.array(test_dataset.Intent.map(lambda x : intent_mapper[x]))[1:]\n",
    "\n",
    "predictions = model.predict(np.array(test_phrases))\n",
    "y_pred = [] \n",
    "for pred in predictions:\n",
    "    y_pred.append(pred.argmax())\n",
    "\n",
    "print(classification_report(test_intents, y_pred, zero_division = 1))"
   ]
  },
  {
   "cell_type": "code",
   "execution_count": null,
   "metadata": {},
   "outputs": [],
   "source": []
  }
 ],
 "metadata": {
  "kernelspec": {
   "display_name": "Python 3",
   "language": "python",
   "name": "python3"
  },
  "language_info": {
   "codemirror_mode": {
    "name": "ipython",
    "version": 3
   },
   "file_extension": ".py",
   "mimetype": "text/x-python",
   "name": "python",
   "nbconvert_exporter": "python",
   "pygments_lexer": "ipython3",
   "version": "3.6.9"
  }
 },
 "nbformat": 4,
 "nbformat_minor": 4
}
