{
 "cells": [
  {
   "cell_type": "code",
   "execution_count": 1,
   "metadata": {},
   "outputs": [
    {
     "name": "stdout",
     "output_type": "stream",
     "text": [
      "2.7.0-dev20210709\n"
     ]
    }
   ],
   "source": [
    "import numpy as np\n",
    "import pandas as pd\n",
    "import tensorflow as tf\n",
    "\n",
    "print(tf.__version__)"
   ]
  },
  {
   "cell_type": "code",
   "execution_count": 2,
   "metadata": {},
   "outputs": [],
   "source": [
    "train_ds = pd.read_csv('./dataset/classification/train_dataset.csv')\n",
    "test_ds  = pd.read_csv('./dataset/classification/test_dataset.csv')\n",
    "valid_ds = pd.read_csv('./dataset/classification/dev_dataset.csv')"
   ]
  },
  {
   "cell_type": "code",
   "execution_count": 3,
   "metadata": {},
   "outputs": [
    {
     "data": {
      "text/html": [
       "<div>\n",
       "<style scoped>\n",
       "    .dataframe tbody tr th:only-of-type {\n",
       "        vertical-align: middle;\n",
       "    }\n",
       "\n",
       "    .dataframe tbody tr th {\n",
       "        vertical-align: top;\n",
       "    }\n",
       "\n",
       "    .dataframe thead th {\n",
       "        text-align: right;\n",
       "    }\n",
       "</style>\n",
       "<table border=\"1\" class=\"dataframe\">\n",
       "  <thead>\n",
       "    <tr style=\"text-align: right;\">\n",
       "      <th></th>\n",
       "      <th>Sentence</th>\n",
       "      <th>Intent</th>\n",
       "    </tr>\n",
       "  </thead>\n",
       "  <tbody>\n",
       "    <tr>\n",
       "      <th>0</th>\n",
       "      <td>Can you show me some movie listings?</td>\n",
       "      <td>INFORM_INTENT</td>\n",
       "    </tr>\n",
       "    <tr>\n",
       "      <th>1</th>\n",
       "      <td>I am in San Jose. Also I want to see a 3D movie.</td>\n",
       "      <td>INFORM</td>\n",
       "    </tr>\n",
       "    <tr>\n",
       "      <th>2</th>\n",
       "      <td>Yes, please find me some other movies. I want ...</td>\n",
       "      <td>INFORM</td>\n",
       "    </tr>\n",
       "    <tr>\n",
       "      <th>3</th>\n",
       "      <td>What times do you have available for Curse of ...</td>\n",
       "      <td>INFORM_INTENT</td>\n",
       "    </tr>\n",
       "    <tr>\n",
       "      <th>4</th>\n",
       "      <td>March 5th.</td>\n",
       "      <td>INFORM</td>\n",
       "    </tr>\n",
       "  </tbody>\n",
       "</table>\n",
       "</div>"
      ],
      "text/plain": [
       "                                            Sentence         Intent\n",
       "0               Can you show me some movie listings?  INFORM_INTENT\n",
       "1   I am in San Jose. Also I want to see a 3D movie.         INFORM\n",
       "2  Yes, please find me some other movies. I want ...         INFORM\n",
       "3  What times do you have available for Curse of ...  INFORM_INTENT\n",
       "4                                         March 5th.         INFORM"
      ]
     },
     "execution_count": 3,
     "metadata": {},
     "output_type": "execute_result"
    }
   ],
   "source": [
    "train_ds.head()"
   ]
  },
  {
   "cell_type": "code",
   "execution_count": 4,
   "metadata": {},
   "outputs": [
    {
     "data": {
      "text/plain": [
       "{'AFFIRM',\n",
       " 'AFFIRM_INTENT',\n",
       " 'INFORM',\n",
       " 'INFORM_INTENT',\n",
       " 'NEGATE',\n",
       " 'NEGATE_INTENT',\n",
       " 'REQUEST',\n",
       " 'REQUEST_ALTS',\n",
       " 'SELECT',\n",
       " 'THANK_YOU'}"
      ]
     },
     "execution_count": 4,
     "metadata": {},
     "output_type": "execute_result"
    }
   ],
   "source": [
    "intents_list = []\n",
    "intents_list.extend(train_ds['Intent'].unique())\n",
    "intents_list.extend(test_ds['Intent'].unique())\n",
    "intents_list.extend(valid_ds['Intent'].unique())\n",
    "intents_list = set(intents_list)\n",
    "intents_list"
   ]
  },
  {
   "cell_type": "code",
   "execution_count": 5,
   "metadata": {},
   "outputs": [],
   "source": [
    "intent_mapper = {\n",
    "'AFFIRM': 1,\n",
    "'AFFIRM_INTENT': 2,\n",
    "'INFORM': 3,\n",
    "'INFORM_INTENT': 4,\n",
    "'NEGATE': 5,\n",
    "'NEGATE_INTENT': 6,\n",
    "'REQUEST': 7,\n",
    "'REQUEST_ALTS': 8,\n",
    "'SELECT':9,\n",
    "'THANK_YOU':10\n",
    "}"
   ]
  },
  {
   "cell_type": "code",
   "execution_count": 6,
   "metadata": {},
   "outputs": [
    {
     "data": {
      "text/html": [
       "<div>\n",
       "<style scoped>\n",
       "    .dataframe tbody tr th:only-of-type {\n",
       "        vertical-align: middle;\n",
       "    }\n",
       "\n",
       "    .dataframe tbody tr th {\n",
       "        vertical-align: top;\n",
       "    }\n",
       "\n",
       "    .dataframe thead th {\n",
       "        text-align: right;\n",
       "    }\n",
       "</style>\n",
       "<table border=\"1\" class=\"dataframe\">\n",
       "  <thead>\n",
       "    <tr style=\"text-align: right;\">\n",
       "      <th></th>\n",
       "      <th>Sentence</th>\n",
       "      <th>Intent</th>\n",
       "    </tr>\n",
       "  </thead>\n",
       "  <tbody>\n",
       "    <tr>\n",
       "      <th>0</th>\n",
       "      <td>Can you show me some movie listings?</td>\n",
       "      <td>4</td>\n",
       "    </tr>\n",
       "    <tr>\n",
       "      <th>1</th>\n",
       "      <td>I am in San Jose. Also I want to see a 3D movie.</td>\n",
       "      <td>3</td>\n",
       "    </tr>\n",
       "    <tr>\n",
       "      <th>2</th>\n",
       "      <td>Yes, please find me some other movies. I want ...</td>\n",
       "      <td>3</td>\n",
       "    </tr>\n",
       "    <tr>\n",
       "      <th>3</th>\n",
       "      <td>What times do you have available for Curse of ...</td>\n",
       "      <td>4</td>\n",
       "    </tr>\n",
       "    <tr>\n",
       "      <th>4</th>\n",
       "      <td>March 5th.</td>\n",
       "      <td>3</td>\n",
       "    </tr>\n",
       "  </tbody>\n",
       "</table>\n",
       "</div>"
      ],
      "text/plain": [
       "                                            Sentence  Intent\n",
       "0               Can you show me some movie listings?       4\n",
       "1   I am in San Jose. Also I want to see a 3D movie.       3\n",
       "2  Yes, please find me some other movies. I want ...       3\n",
       "3  What times do you have available for Curse of ...       4\n",
       "4                                         March 5th.       3"
      ]
     },
     "execution_count": 6,
     "metadata": {},
     "output_type": "execute_result"
    }
   ],
   "source": [
    "train_ds['Intent'] = np.array(train_ds.Intent.map(lambda x: intent_mapper[x]))\n",
    "test_ds['Intent'] = np.array(test_ds.Intent.map(lambda x: intent_mapper[x]))\n",
    "valid_ds['Intent'] = np.array(valid_ds.Intent.map(lambda x: intent_mapper[x]))\n",
    "train_ds.head()"
   ]
  },
  {
   "cell_type": "code",
   "execution_count": 7,
   "metadata": {},
   "outputs": [
    {
     "data": {
      "text/plain": [
       "array([4, 3, 9, 7, 6, 5, 8])"
      ]
     },
     "execution_count": 7,
     "metadata": {},
     "output_type": "execute_result"
    }
   ],
   "source": [
    "train_ds['Intent'].unique()"
   ]
  },
  {
   "cell_type": "code",
   "execution_count": 8,
   "metadata": {},
   "outputs": [],
   "source": [
    "BUFFER_SIZE = 10000\n",
    "BATCH_SIZE = 64"
   ]
  },
  {
   "cell_type": "code",
   "execution_count": 9,
   "metadata": {
    "scrolled": true
   },
   "outputs": [],
   "source": [
    "train_text = tf.data.Dataset.from_tensor_slices(train_ds['Sentence'])\n",
    "train_labels = tf.data.Dataset.from_tensor_slices(train_ds['Intent'])\n",
    "\n",
    "test_text = tf.data.Dataset.from_tensor_slices(test_ds['Sentence'])\n",
    "test_labels = tf.data.Dataset.from_tensor_slices(test_ds['Intent'])\n",
    "\n",
    "valid_text = tf.data.Dataset.from_tensor_slices(valid_ds['Sentence'])\n",
    "valid_labels = tf.data.Dataset.from_tensor_slices(valid_ds['Intent'])\n",
    "\n",
    "\n",
    "train_dataset = tf.data.Dataset.zip((train_text, train_labels))\n",
    "test_dataset = tf.data.Dataset.zip((test_text, test_labels))\n",
    "valid_dataset = tf.data.Dataset.zip((valid_text, valid_labels))"
   ]
  },
  {
   "cell_type": "code",
   "execution_count": 10,
   "metadata": {},
   "outputs": [],
   "source": [
    "train_dataset = train_dataset.shuffle(BUFFER_SIZE).batch(BATCH_SIZE).prefetch(tf.data.AUTOTUNE)\n",
    "test_dataset = test_dataset.batch(BATCH_SIZE).prefetch(tf.data.AUTOTUNE)\n",
    "valid_dataset = valid_dataset.batch(BATCH_SIZE).prefetch(tf.data.AUTOTUNE)"
   ]
  },
  {
   "cell_type": "code",
   "execution_count": 11,
   "metadata": {},
   "outputs": [
    {
     "name": "stdout",
     "output_type": "stream",
     "text": [
      "texts:  [b'Check for other movies.'\n",
      " b'I want a 3D showing, on March 2nd, at the Vogue Theatre.'\n",
      " b'I am bored and would like to see a movie.']\n",
      "\n",
      "labels:  [8 3 4]\n"
     ]
    }
   ],
   "source": [
    "for example, label in train_dataset.take(1):\n",
    "    print('texts: ', example.numpy()[:3])\n",
    "    print()\n",
    "    print('labels: ', label.numpy()[:3])"
   ]
  },
  {
   "cell_type": "markdown",
   "metadata": {},
   "source": [
    "# Text encoder"
   ]
  },
  {
   "cell_type": "code",
   "execution_count": 12,
   "metadata": {},
   "outputs": [],
   "source": [
    "VOCAB_SIZE = 1000\n",
    "encoder = tf.keras.layers.experimental.preprocessing.TextVectorization(\n",
    "    max_tokens=VOCAB_SIZE)\n",
    "encoder.adapt(train_dataset.map(lambda text, label: text))\n",
    "encoder.adapt(test_dataset.map(lambda text, label: text))\n",
    "encoder.adapt(valid_dataset.map(lambda text, label: text))"
   ]
  },
  {
   "cell_type": "code",
   "execution_count": 13,
   "metadata": {},
   "outputs": [
    {
     "data": {
      "text/plain": [
       "array(['', '[UNK]', 'i', 'to', 'the', 'a', 'movie', 'is', 'for', 'in',\n",
       "       'you', 'watch', 'it', 'what', 'want', 'of', 'like', 'movies',\n",
       "       'can', 'me'], dtype='<U15')"
      ]
     },
     "execution_count": 13,
     "metadata": {},
     "output_type": "execute_result"
    }
   ],
   "source": [
    "vocab = np.array(encoder.get_vocabulary())\n",
    "vocab[:20]"
   ]
  },
  {
   "cell_type": "code",
   "execution_count": 14,
   "metadata": {},
   "outputs": [
    {
     "data": {
      "text/plain": [
       "array([[248,   8,  57,  17,   0,   0,   0,   0,   0,   0,   0,   0,   0,\n",
       "          0,   0,   0,   0,   0,   0,   0,   0,   0,   0,   0,   0,   0,\n",
       "          0,   0],\n",
       "       [  2,  14,   5,  72,  54,  24,  44,  82,  22,   4, 724, 122,   0,\n",
       "          0,   0,   0,   0,   0,   0,   0,   0,   0,   0,   0,   0,   0,\n",
       "          0,   0],\n",
       "       [  2,  63, 338,  28,  27,  16,   3,  25,   5,   6,   0,   0,   0,\n",
       "          0,   0,   0,   0,   0,   0,   0,   0,   0,   0,   0,   0,   0,\n",
       "          0,   0]])"
      ]
     },
     "execution_count": 14,
     "metadata": {},
     "output_type": "execute_result"
    }
   ],
   "source": [
    "encoded_example = encoder(example)[:3].numpy()\n",
    "encoded_example"
   ]
  },
  {
   "cell_type": "code",
   "execution_count": 15,
   "metadata": {},
   "outputs": [
    {
     "name": "stdout",
     "output_type": "stream",
     "text": [
      "Original:  b'Check for other movies.'\n",
      "Round-trip:  check for other movies                        \n",
      "\n",
      "Original:  b'I want a 3D showing, on March 2nd, at the Vogue Theatre.'\n",
      "Round-trip:  i want a 3d showing on march 2nd at the vogue theatre                \n",
      "\n",
      "Original:  b'I am bored and would like to see a movie.'\n",
      "Round-trip:  i am bored and would like to see a movie                  \n",
      "\n"
     ]
    }
   ],
   "source": [
    "for n in range(3):\n",
    "    print(\"Original: \", example[n].numpy())\n",
    "    print(\"Round-trip: \", \" \".join(vocab[encoded_example[n]]))\n",
    "    print()"
   ]
  },
  {
   "cell_type": "markdown",
   "metadata": {},
   "source": [
    "# create model"
   ]
  },
  {
   "cell_type": "code",
   "execution_count": 16,
   "metadata": {},
   "outputs": [],
   "source": [
    "\n",
    "model = tf.keras.Sequential([\n",
    "  encoder,\n",
    "  tf.keras.layers.Embedding(\n",
    "    input_dim=len(encoder.get_vocabulary()),\n",
    "    output_dim=64,\n",
    "    # Use masking to handle the variable sequence lengths\n",
    "    mask_zero=True),\n",
    "  tf.keras.layers.Bidirectional(tf.keras.layers.LSTM(64)),\n",
    "  tf.keras.layers.Dense(11, activation='softmax')\n",
    "])"
   ]
  },
  {
   "cell_type": "code",
   "execution_count": 17,
   "metadata": {},
   "outputs": [
    {
     "name": "stdout",
     "output_type": "stream",
     "text": [
      "[0.09067997 0.09013047 0.09207603 0.09061903 0.09115911 0.09049734\n",
      " 0.09089662 0.0903633  0.09132195 0.09059145 0.09166473]\n"
     ]
    }
   ],
   "source": [
    "\n",
    "# predict on a sample text without padding.\n",
    "\n",
    "sample_text = ('Please check the showtimes for next Friday.')\n",
    "predictions = model.predict(np.array([sample_text]))\n",
    "print(predictions[0])"
   ]
  },
  {
   "cell_type": "code",
   "execution_count": 18,
   "metadata": {},
   "outputs": [
    {
     "name": "stdout",
     "output_type": "stream",
     "text": [
      "[0.09067997 0.09013047 0.09207603 0.09061903 0.09115911 0.09049734\n",
      " 0.09089662 0.0903633  0.09132195 0.09059145 0.09166473]\n"
     ]
    }
   ],
   "source": [
    "# predict on a sample text with padding\n",
    "\n",
    "padding = \"the \" * 2000\n",
    "predictions = model.predict(np.array([sample_text, padding]))\n",
    "print(predictions[0])"
   ]
  },
  {
   "cell_type": "code",
   "execution_count": 19,
   "metadata": {},
   "outputs": [],
   "source": [
    "model.compile(loss=tf.keras.losses.SparseCategoricalCrossentropy(),\n",
    "              optimizer=tf.keras.optimizers.Adam(1e-4),\n",
    "              metrics=['accuracy'])"
   ]
  },
  {
   "cell_type": "markdown",
   "metadata": {},
   "source": [
    "# Train the model"
   ]
  },
  {
   "cell_type": "code",
   "execution_count": 22,
   "metadata": {},
   "outputs": [
    {
     "name": "stdout",
     "output_type": "stream",
     "text": [
      "Epoch 1/20\n",
      "30/30 [==============================] - 3s 97ms/step - loss: 1.3807 - accuracy: 0.5048 - val_loss: 1.3518 - val_accuracy: 0.5245\n",
      "Epoch 2/20\n",
      "30/30 [==============================] - 3s 91ms/step - loss: 1.3293 - accuracy: 0.5408 - val_loss: 1.2989 - val_accuracy: 0.5521\n",
      "Epoch 3/20\n",
      "30/30 [==============================] - 3s 103ms/step - loss: 1.2731 - accuracy: 0.5651 - val_loss: 1.2411 - val_accuracy: 0.5823\n",
      "Epoch 4/20\n",
      "30/30 [==============================] - 4s 120ms/step - loss: 1.2119 - accuracy: 0.5980 - val_loss: 1.1766 - val_accuracy: 0.6177\n",
      "Epoch 5/20\n",
      "30/30 [==============================] - 3s 100ms/step - loss: 1.1427 - accuracy: 0.6266 - val_loss: 1.1045 - val_accuracy: 0.6458\n",
      "Epoch 6/20\n",
      "30/30 [==============================] - 3s 95ms/step - loss: 1.0671 - accuracy: 0.6637 - val_loss: 1.0294 - val_accuracy: 0.6771\n",
      "Epoch 7/20\n",
      "30/30 [==============================] - 3s 93ms/step - loss: 0.9919 - accuracy: 0.6970 - val_loss: 0.9594 - val_accuracy: 0.6979\n",
      "Epoch 8/20\n",
      "30/30 [==============================] - 3s 91ms/step - loss: 0.9196 - accuracy: 0.7230 - val_loss: 0.8872 - val_accuracy: 0.7354\n",
      "Epoch 9/20\n",
      "30/30 [==============================] - 3s 95ms/step - loss: 0.8530 - accuracy: 0.7474 - val_loss: 0.8241 - val_accuracy: 0.7542\n",
      "Epoch 10/20\n",
      "30/30 [==============================] - 3s 106ms/step - loss: 0.7913 - accuracy: 0.7675 - val_loss: 0.7707 - val_accuracy: 0.7792\n",
      "Epoch 11/20\n",
      "30/30 [==============================] - 4s 127ms/step - loss: 0.7409 - accuracy: 0.7865 - val_loss: 0.7281 - val_accuracy: 0.7906\n",
      "Epoch 12/20\n",
      "30/30 [==============================] - 3s 117ms/step - loss: 0.6996 - accuracy: 0.7934 - val_loss: 0.6851 - val_accuracy: 0.7984\n",
      "Epoch 13/20\n",
      "30/30 [==============================] - 3s 105ms/step - loss: 0.6583 - accuracy: 0.8061 - val_loss: 0.6493 - val_accuracy: 0.8089\n",
      "Epoch 14/20\n",
      "30/30 [==============================] - 3s 101ms/step - loss: 0.6227 - accuracy: 0.8146 - val_loss: 0.6182 - val_accuracy: 0.8172\n",
      "Epoch 15/20\n",
      "30/30 [==============================] - 3s 99ms/step - loss: 0.5921 - accuracy: 0.8247 - val_loss: 0.5899 - val_accuracy: 0.8255\n",
      "Epoch 16/20\n",
      "30/30 [==============================] - 3s 94ms/step - loss: 0.5637 - accuracy: 0.8353 - val_loss: 0.5643 - val_accuracy: 0.8344\n",
      "Epoch 17/20\n",
      "30/30 [==============================] - 3s 108ms/step - loss: 0.5386 - accuracy: 0.8416 - val_loss: 0.5416 - val_accuracy: 0.8422\n",
      "Epoch 18/20\n",
      "30/30 [==============================] - 3s 102ms/step - loss: 0.5161 - accuracy: 0.8496 - val_loss: 0.5208 - val_accuracy: 0.8469\n",
      "Epoch 19/20\n",
      "30/30 [==============================] - 3s 91ms/step - loss: 0.4940 - accuracy: 0.8559 - val_loss: 0.5010 - val_accuracy: 0.8542\n",
      "Epoch 20/20\n",
      "30/30 [==============================] - 3s 92ms/step - loss: 0.4739 - accuracy: 0.8607 - val_loss: 0.4833 - val_accuracy: 0.8583\n"
     ]
    }
   ],
   "source": [
    "history = model.fit(train_dataset, epochs=20,\n",
    "                    validation_data=valid_dataset,\n",
    "                    validation_steps=30)"
   ]
  },
  {
   "cell_type": "code",
   "execution_count": 23,
   "metadata": {},
   "outputs": [
    {
     "name": "stdout",
     "output_type": "stream",
     "text": [
      "41/41 [==============================] - 1s 28ms/step - loss: 0.8521 - accuracy: 0.7831\n",
      "Test Loss: 0.8521207571029663\n",
      "Test Accuracy: 0.7830910682678223\n"
     ]
    }
   ],
   "source": [
    "test_loss, test_acc = model.evaluate(test_dataset)\n",
    "\n",
    "print('Test Loss:', test_loss)\n",
    "print('Test Accuracy:', test_acc)"
   ]
  },
  {
   "cell_type": "code",
   "execution_count": 24,
   "metadata": {},
   "outputs": [
    {
     "name": "stdout",
     "output_type": "stream",
     "text": [
      "[[7.4509455e-07 2.0017237e-06 7.8007542e-07 9.8423541e-01 1.4781028e-02\n",
      "  3.8477867e-07 1.5240630e-06 5.3030028e-05 2.1355312e-04 7.1055372e-04\n",
      "  1.0588172e-06]]\n"
     ]
    }
   ],
   "source": [
    "# predict on a sample text without padding.\n",
    "\n",
    "sample_text = ('Please check the showtimes for next Friday.')\n",
    "predictions = model.predict(np.array([sample_text]))\n",
    "print(predictions)"
   ]
  },
  {
   "cell_type": "code",
   "execution_count": null,
   "metadata": {},
   "outputs": [],
   "source": []
  }
 ],
 "metadata": {
  "kernelspec": {
   "display_name": "Python 3",
   "language": "python",
   "name": "python3"
  },
  "language_info": {
   "codemirror_mode": {
    "name": "ipython",
    "version": 3
   },
   "file_extension": ".py",
   "mimetype": "text/x-python",
   "name": "python",
   "nbconvert_exporter": "python",
   "pygments_lexer": "ipython3",
   "version": "3.6.9"
  }
 },
 "nbformat": 4,
 "nbformat_minor": 5
}
