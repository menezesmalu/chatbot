{
 "cells": [
  {
   "cell_type": "code",
   "execution_count": 14,
   "metadata": {},
   "outputs": [
    {
     "name": "stderr",
     "output_type": "stream",
     "text": [
      "[nltk_data] Downloading package punkt to /home/dgmneto/nltk_data...\n",
      "[nltk_data]   Package punkt is already up-to-date!\n"
     ]
    },
    {
     "data": {
      "text/plain": [
       "True"
      ]
     },
     "execution_count": 14,
     "metadata": {},
     "output_type": "execute_result"
    }
   ],
   "source": [
    "from os import supports_follow_symlinks\n",
    "import nltk\n",
    "import csv\n",
    "import pathlib\n",
    "import json\n",
    "import numpy as np\n",
    "\n",
    "nltk.download('punkt')"
   ]
  },
  {
   "cell_type": "code",
   "execution_count": 2,
   "metadata": {},
   "outputs": [],
   "source": [
    "file_list = ['train', 'test','dev']\n",
    "subject = ['Movies_1', 'Movies_2', 'Movies_3']"
   ]
  },
  {
   "cell_type": "code",
   "execution_count": 45,
   "metadata": {},
   "outputs": [],
   "source": [
    "def get_entities(frames):\n",
    "    entities = {}\n",
    "    for frame in frames:\n",
    "        for action in frame['actions']:\n",
    "            if action['slot'] == 'intent':\n",
    "                continue\n",
    "            values = action['values']\n",
    "            for value in values:\n",
    "                tokens = nltk.word_tokenize(value)\n",
    "                entity = action['slot']\n",
    "                for idx, word in enumerate(tokens):\n",
    "                    if idx == 0:\n",
    "                        wordtype = ('B-' + entity)\n",
    "                    else:\n",
    "                        wordtype = ('I-' + entity)\n",
    "                    entities[word] = wordtype\n",
    "    return entities"
   ]
  },
  {
   "cell_type": "code",
   "execution_count": 46,
   "metadata": {},
   "outputs": [],
   "source": [
    "def get_entity_list(json_file):\n",
    "    phrase_to_entities = []\n",
    "    for item in json_file:\n",
    "        if len(item['services']) > 1 or not np.any(np.in1d(subject, item['services'])):\n",
    "            continue\n",
    "        for turn in item['turns']:\n",
    "            if turn['speaker'] == 'SYSTEM':\n",
    "                continue\n",
    "            splitted_text = nltk.word_tokenize(turn['utterance'])\n",
    "            entities = get_entities(turn['frames'])\n",
    "            for word in splitted_text:\n",
    "                if word in entities:\n",
    "                    phrase_to_entities.append([word, entities[word]])\n",
    "                else:\n",
    "                    phrase_to_entities.append([word, 'o'])\n",
    "            phrase_to_entities.append(['', ''])\n",
    "    return phrase_to_entities\n",
    "    "
   ]
  },
  {
   "cell_type": "code",
   "execution_count": 48,
   "metadata": {},
   "outputs": [
    {
     "name": "stdout",
     "output_type": "stream",
     "text": [
      "train\n",
      "test\n",
      "dev\n"
     ]
    }
   ],
   "source": [
    "if __name__ == '__main__':\n",
    "    for file_name in file_list:\n",
    "        print(file_name)\n",
    "        f = open(f'./extraction/{file_name}_dataset.csv', 'w')\n",
    "        writer = csv.writer(f)\n",
    "        writer.writerow(['Word', 'Entity'])\n",
    "        for path in pathlib.Path(f'../dstc8-schema-guided-dialogue/{file_name}').iterdir():\n",
    "            if path.is_file() and not path.match('*schema.json'):\n",
    "                file = open(path, 'r')\n",
    "                json_file = json.loads(file.read())\n",
    "                word_ent_list = get_entity_list(json_file)\n",
    "                for word_ent in word_ent_list:\n",
    "                    writer.writerow(word_ent)\n",
    "        file.close()\n",
    "        f.close()\n",
    "        "
   ]
  },
  {
   "cell_type": "code",
   "execution_count": null,
   "metadata": {},
   "outputs": [],
   "source": []
  }
 ],
 "metadata": {
  "kernelspec": {
   "display_name": "Python 3",
   "language": "python",
   "name": "python3"
  },
  "language_info": {
   "codemirror_mode": {
    "name": "ipython",
    "version": 3
   },
   "file_extension": ".py",
   "mimetype": "text/x-python",
   "name": "python",
   "nbconvert_exporter": "python",
   "pygments_lexer": "ipython3",
   "version": "3.6.9"
  }
 },
 "nbformat": 4,
 "nbformat_minor": 4
}
