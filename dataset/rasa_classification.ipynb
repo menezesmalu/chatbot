{
 "cells": [
  {
   "cell_type": "code",
   "execution_count": 6,
   "source": [
    "import csv\n",
    "import pathlib\n",
    "import json\n",
    "import numpy as np\n",
    "import pandas as pd\n",
    "\n",
    "file_list = ['dev_dataset.csv', 'test_dataset.csv', 'train_dataset.csv']\n"
   ],
   "outputs": [],
   "metadata": {}
  },
  {
   "cell_type": "code",
   "execution_count": 29,
   "source": [
    "\n",
    "if __name__ == '__main__':\n",
    "    for file_name in file_list:\n",
    "        for path in pathlib.Path(f'./classification').iterdir():\n",
    "            if path.is_file() and not path.match('*schema.json'):\n",
    "                df_path = str(\"./{}\".format(path))\n",
    "                dataset = pd.read_csv(df_path)\n",
    "                unique = dataset['Intent'].unique()\n",
    "                for _, row in dataset.iterrows():\n",
    "                    intent = row['Intent']\n",
    "                    sentence = row['Sentence']\n",
    "                    f = open(f'./classification_rasa/{intent}_rasa.txt', 'a')\n",
    "                    f.write(str(sentence + '\\n'))\n",
    "                    f.close()\n"
   ],
   "outputs": [],
   "metadata": {}
  },
  {
   "cell_type": "code",
   "execution_count": null,
   "source": [],
   "outputs": [],
   "metadata": {}
  }
 ],
 "metadata": {
  "kernelspec": {
   "name": "python3",
   "display_name": "Python 3.6.9 64-bit ('rasa': venv)"
  },
  "language_info": {
   "codemirror_mode": {
    "name": "ipython",
    "version": 3
   },
   "file_extension": ".py",
   "mimetype": "text/x-python",
   "name": "python",
   "nbconvert_exporter": "python",
   "pygments_lexer": "ipython3",
   "version": "3.6.9"
  },
  "interpreter": {
   "hash": "7691df47c0bbc440ab587bfe29eb6fb80aac383addebf33edec5230c95e6d62b"
  }
 },
 "nbformat": 4,
 "nbformat_minor": 4
}