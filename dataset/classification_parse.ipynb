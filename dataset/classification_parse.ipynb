{
 "cells": [
  {
   "cell_type": "code",
   "execution_count": 1,
   "metadata": {},
   "outputs": [],
   "source": [
    "import csv\n",
    "import pathlib\n",
    "import json\n",
    "import numpy as np"
   ]
  },
  {
   "cell_type": "code",
   "execution_count": 2,
   "metadata": {},
   "outputs": [],
   "source": [
    "file_list = ['train', 'test','dev']\n",
    "subject = ['Movies_1', 'Movies_2', 'Movies_3']\n",
    "user = {}\n",
    "intents = set()"
   ]
  },
  {
   "cell_type": "code",
   "execution_count": 3,
   "metadata": {},
   "outputs": [],
   "source": [
    "def discover_intents(jsonfile, file_name):\n",
    "    for item in jsonfile:\n",
    "        if len(item['services']) > 1 or not np.any(np.in1d(subject, item['services'])):\n",
    "            continue\n",
    "        for turn in item['turns']:\n",
    "            if turn['speaker'] == 'SYSTEM':\n",
    "                continue\n",
    "            text = turn['utterance']\n",
    "            intent = 'other'\n",
    "            for frame in turn['frames']:\n",
    "                if frame['service'] not in subject:\n",
    "                    continue\n",
    "                for action in frame['actions']:\n",
    "                    intent = action['act']\n",
    "                    if text not in user:\n",
    "                        user[text] = set()\n",
    "                        user[text].add(intent.upper())\n",
    "                        intents.add(intent)\n",
    "        "
   ]
  },
  {
   "cell_type": "code",
   "execution_count": 4,
   "metadata": {},
   "outputs": [
    {
     "name": "stdout",
     "output_type": "stream",
     "text": [
      "REQUEST\n",
      "NEGATE\n",
      "NEGATE_INTENT\n",
      "SELECT\n",
      "THANK_YOU\n",
      "REQUEST_ALTS\n",
      "INFORM_INTENT\n",
      "INFORM\n",
      "AFFIRM_INTENT\n",
      "AFFIRM\n"
     ]
    }
   ],
   "source": [
    "if __name__ == '__main__':\n",
    "    for file_name in file_list:\n",
    "        for path in pathlib.Path(f'../dstc8-schema-guided-dialogue/{file_name}').iterdir():\n",
    "             if path.is_file() and not path.match('*schema.json'):\n",
    "                    file = open(path, 'r')\n",
    "                    json_file = json.loads(file.read())\n",
    "                    discover_intents(json_file,path)\n",
    "                    file.close()\n",
    "        f = open(f'./classification/{file_name}_dataset.csv', 'w')\n",
    "        writer = csv.writer(f)\n",
    "        writer.writerow(['Sentence', 'Intent'])\n",
    "        for sent, intent_list in user.items():\n",
    "            for intent in intent_list:\n",
    "                writer.writerow([sent, intent])\n",
    "        f.close()\n",
    "    for _intent in intents:\n",
    "        print(_intent)\n",
    "                    "
   ]
  }
 ],
 "metadata": {
  "kernelspec": {
   "display_name": "Python 3",
   "language": "python",
   "name": "python3"
  },
  "language_info": {
   "codemirror_mode": {
    "name": "ipython",
    "version": 3
   },
   "file_extension": ".py",
   "mimetype": "text/x-python",
   "name": "python",
   "nbconvert_exporter": "python",
   "pygments_lexer": "ipython3",
   "version": "3.6.9"
  }
 },
 "nbformat": 4,
 "nbformat_minor": 4
}
